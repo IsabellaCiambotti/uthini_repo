{
 "cells": [
  {
   "cell_type": "markdown",
   "metadata": {},
   "source": [
    "## format and split data"
   ]
  },
  {
   "cell_type": "code",
   "execution_count": 1,
   "metadata": {},
   "outputs": [],
   "source": [
    "import pandas as pd\n",
    "import numpy as np\n",
    "import sklearn as sk"
   ]
  },
  {
   "cell_type": "code",
   "execution_count": 2,
   "metadata": {},
   "outputs": [
    {
     "name": "stderr",
     "output_type": "stream",
     "text": [
      "/home/isabella_uthini_co_za/.venv/lib/python3.6/site-packages/IPython/core/interactiveshell.py:2785: DtypeWarning: Columns (7,8) have mixed types. Specify dtype option on import or set low_memory=False.\n",
      "  interactivity=interactivity, compiler=compiler, result=result)\n"
     ]
    }
   ],
   "source": [
    "train = pd.read_csv('train_small.csv')"
   ]
  },
  {
   "cell_type": "code",
   "execution_count": 3,
   "metadata": {},
   "outputs": [],
   "source": [
    "#Droping the nan values in the type column to isolate the data that we had marked as train data (rows that we'd manually filled)\n",
    "train.dropna(subset=['type'], inplace=True)"
   ]
  },
  {
   "cell_type": "code",
   "execution_count": 4,
   "metadata": {},
   "outputs": [],
   "source": [
    "#Defining the test data\n",
    "test = pd.read_csv('labeled_output.csv')"
   ]
  },
  {
   "cell_type": "code",
   "execution_count": 5,
   "metadata": {},
   "outputs": [],
   "source": [
    "test.dropna(subset=['text'], inplace=True)"
   ]
  },
  {
   "cell_type": "code",
   "execution_count": 6,
   "metadata": {},
   "outputs": [],
   "source": [
    "test.drop(columns=['text_type'], inplace=True)"
   ]
  },
  {
   "cell_type": "code",
   "execution_count": 7,
   "metadata": {},
   "outputs": [],
   "source": [
    "#Defining the training data\n",
    "X = train['text']\n",
    "y = train['type']"
   ]
  },
  {
   "cell_type": "code",
   "execution_count": 8,
   "metadata": {},
   "outputs": [
    {
     "name": "stdout",
     "output_type": "stream",
     "text": [
      "(259,)\n",
      "(259,)\n"
     ]
    }
   ],
   "source": [
    "print(X.shape)\n",
    "print(y.shape)"
   ]
  },
  {
   "cell_type": "code",
   "execution_count": 9,
   "metadata": {},
   "outputs": [],
   "source": [
    "#Splitting the data into a train and test set\n",
    "from sklearn.model_selection import train_test_split\n",
    "\n",
    "x_train, x_test, y_train, y_test = train_test_split(X, y, random_state=128, test_size=0.2)"
   ]
  },
  {
   "cell_type": "code",
<<<<<<< HEAD
   "execution_count": 1,
=======
   "execution_count": 10,
>>>>>>> 4fe688d039d694600ce01436233882345144d869
   "metadata": {},
   "outputs": [
    {
     "ename": "NameError",
     "evalue": "name 'y_train' is not defined",
     "output_type": "error",
     "traceback": [
      "\u001b[0;31m---------------------------------------------------------------------------\u001b[0m",
      "\u001b[0;31mNameError\u001b[0m                                 Traceback (most recent call last)",
      "\u001b[0;32m<ipython-input-1-04760b0a6d46>\u001b[0m in \u001b[0;36m<module>\u001b[0;34m()\u001b[0m\n\u001b[1;32m      2\u001b[0m \u001b[0;32mfrom\u001b[0m \u001b[0msklearn\u001b[0m\u001b[0;34m.\u001b[0m\u001b[0mpreprocessing\u001b[0m \u001b[0;32mimport\u001b[0m \u001b[0mLabelEncoder\u001b[0m\u001b[0;34m\u001b[0m\u001b[0m\n\u001b[1;32m      3\u001b[0m \u001b[0mle\u001b[0m\u001b[0;34m=\u001b[0m\u001b[0mLabelEncoder\u001b[0m\u001b[0;34m(\u001b[0m\u001b[0;34m)\u001b[0m\u001b[0;34m\u001b[0m\u001b[0m\n\u001b[0;32m----> 4\u001b[0;31m \u001b[0my_train\u001b[0m\u001b[0;34m=\u001b[0m\u001b[0mle\u001b[0m\u001b[0;34m.\u001b[0m\u001b[0mfit_transform\u001b[0m\u001b[0;34m(\u001b[0m\u001b[0my_train\u001b[0m\u001b[0;34m)\u001b[0m\u001b[0;34m\u001b[0m\u001b[0m\n\u001b[0m\u001b[1;32m      5\u001b[0m \u001b[0my_test\u001b[0m\u001b[0;34m=\u001b[0m\u001b[0mle\u001b[0m\u001b[0;34m.\u001b[0m\u001b[0mfit_transform\u001b[0m\u001b[0;34m(\u001b[0m\u001b[0my_test\u001b[0m\u001b[0;34m)\u001b[0m\u001b[0;34m\u001b[0m\u001b[0m\n",
      "\u001b[0;31mNameError\u001b[0m: name 'y_train' is not defined"
     ]
    }
   ],
   "source": [
    "#Label encoding the data to make each unique value as an integer because the neural network cannot predict a string, it can only predict a number\n",
    "from sklearn.preprocessing import LabelEncoder\n",
    "le=LabelEncoder()\n",
    "y_train=le.fit_transform(y_train)\n",
    "y_test=le.fit_transform(y_test)"
   ]
  },
  {
   "cell_type": "code",
   "execution_count": 11,
   "metadata": {},
   "outputs": [
    {
     "name": "stdout",
     "output_type": "stream",
     "text": [
<<<<<<< HEAD
      "(483, 5020)\n",
      "(121, 5020)\n"
=======
      "(207, 2221)\n",
      "(52, 2221)\n"
>>>>>>> 4fe688d039d694600ce01436233882345144d869
     ]
    }
   ],
   "source": [
    "#Vectorizing the data so that we can put it through the neural network later\n",
    "from sklearn.feature_extraction.text import TfidfVectorizer\n",
    "\n",
    "tf_vec = TfidfVectorizer(analyzer='word',\n",
    "                         min_df=1,\n",
    "                         strip_accents='unicode',\n",
    "                         token_pattern=r'\\w{1,}',\n",
    "                         ngram_range=(2,3),\n",
    "                         )\n",
    "x_train_vec = tf_vec.fit_transform(x_train)\n",
    "x_test_vec = tf_vec.transform(x_test)\n",
    "print (x_train_vec.shape)\n",
    "print (x_test_vec.shape)"
   ]
  },
  {
   "cell_type": "markdown",
   "metadata": {},
   "source": [
    "## neural net"
   ]
  },
  {
   "cell_type": "code",
   "execution_count": 12,
   "metadata": {},
   "outputs": [
    {
     "name": "stderr",
     "output_type": "stream",
     "text": [
      "Using TensorFlow backend.\n"
     ]
    }
   ],
   "source": [
    "from keras import models\n",
    "from keras import layers\n",
    "from keras.layers import Dropout\n",
    "from keras import optimizers\n",
    "from keras.optimizers import SGD"
   ]
  },
  {
   "cell_type": "code",
   "execution_count": 13,
   "metadata": {},
   "outputs": [],
   "source": [
    "# def create_model():\n",
    "#     inputs = layers.Input(shape=(2163,))\n",
    "#     hidden_1 = layers.Dense(units=16, activation='relu')(inputs)\n",
    "#     dropout1 = layers.Dropout(0.2)(hidden_1)\n",
    "#     hidden_2 = layers.Dense(units=16, activation='relu')(hidden_1)\n",
    "#     dropout_2 = layers.Dropout(0.2)(hidden_2)\n",
    "#     outputs = layers.Dense(1, activation='softmax')(hidden_2)\n",
    "\n",
    "#     model= models.Model(inputs=inputs, outputs=outputs)\n",
    "#     #model.summary()\n",
    "#     model.compile(loss='binary_crossentropy', metrics=['accuracy'], optimizer='Adam')\n",
    "#     return model"
   ]
  },
  {
   "cell_type": "markdown",
   "metadata": {},
   "source": [
    "## parameter training\n",
    "Creating a model to find the best parameters for our neural network. We used a gridsearch to do this. This will have to be run on an instance"
   ]
  },
  {
   "cell_type": "code",
   "execution_count": 14,
   "metadata": {},
   "outputs": [],
   "source": [
    "from keras import Sequential\n",
    "from keras.layers import Dense\n",
    "from keras.losses import binary_crossentropy"
   ]
  },
  {
   "cell_type": "code",
   "execution_count": 15,
   "metadata": {},
   "outputs": [],
   "source": [
    "# def create_model_2(hidden_layers=1,dropout_rate=0):\n",
    "#     model2 = Sequential()\n",
    "    \n",
    "#     model2.add(Dense(16, input_shape=(2163,), activation='relu',))\n",
    "#     for i in range(hidden_layers):\n",
    "#         model2.add(Dense(16, activation='relu'))\n",
    "#         model2.add(Dropout(dropout_rate))\n",
    "#     model2.add(Dense(1, activation='sigmoid'))\n",
    "\n",
    "#     model2.compile(loss='binary_crossentropy', optimizer='adam', metrics=['accuracy'])\n",
    "#     return model2"
   ]
  },
  {
   "cell_type": "code",
   "execution_count": 16,
   "metadata": {},
   "outputs": [],
   "source": [
    "# from keras.wrappers.scikit_learn import KerasClassifier\n",
    "\n",
    "# model2 = KerasClassifier(build_fn=create_model_2, verbose=0, epochs=32, batch_size=8, shuffle=True)"
   ]
  },
  {
   "cell_type": "code",
   "execution_count": 17,
   "metadata": {},
   "outputs": [],
   "source": [
    "# from sklearn.model_selection import GridSearchCV\n",
    "\n",
    "# hidden_layers= [2,4,6,8,10,12]\n",
    "# dropout_rate=[0.2,0.4,0.6,0.8]\n",
    "\n",
    "\n",
    "# param_grid2 = dict(hidden_layers=hidden_layers, dropout_rate=dropout_rate)\n",
    "\n",
    "# grid_2 = GridSearchCV(estimator=model2, param_grid=param_grid2, n_jobs=-1)"
   ]
  },
  {
   "cell_type": "code",
   "execution_count": 18,
   "metadata": {},
   "outputs": [],
   "source": [
    "#grid2_pred = grid_2.fit(x_train_vec, y_train)"
   ]
  },
  {
   "cell_type": "code",
   "execution_count": 19,
   "metadata": {},
   "outputs": [],
   "source": [
    "#print(grid2_pred.best_score_)\n",
    "#print(grid2_pred.best_params_)"
   ]
  },
  {
   "cell_type": "code",
   "execution_count": 20,
   "metadata": {},
   "outputs": [],
   "source": [
    "# def create_model_3(neurons):\n",
    "#     model3 = Sequential()\n",
    "    \n",
    "#     model3.add(Dense(neurons, input_shape=(2163,), activation='relu',))\n",
    "#     for i in range(4):\n",
    "#         model3.add(Dense(neurons, activation='relu'))\n",
    "#         model3.add(Dropout(0.2))\n",
    "#     model3.add(Dense(1, activation='sigmoid'))\n",
    "\n",
    "#     model3.compile(loss='binary_crossentropy', optimizer='adam', metrics=['accuracy'])\n",
    "#     return model3"
   ]
  },
  {
   "cell_type": "code",
   "execution_count": 21,
   "metadata": {},
   "outputs": [],
   "source": [
    "# model3 = KerasClassifier(build_fn=create_model_3, verbose=0, epochs=32, batch_size=8, shuffle=True)"
   ]
  },
  {
   "cell_type": "code",
   "execution_count": 22,
   "metadata": {},
   "outputs": [],
   "source": [
    "# neurons= [4,8,16,32,64]\n",
    "\n",
    "# param_grid3 = dict(neurons=neurons)\n",
    "\n",
    "# grid_3 = GridSearchCV(estimator=model3, param_grid=param_grid3, n_jobs=-1)"
   ]
  },
  {
   "cell_type": "code",
   "execution_count": 23,
   "metadata": {},
   "outputs": [],
   "source": [
    "# grid3_pred = grid_3.fit(x_train_vec, y_train)"
   ]
  },
  {
   "cell_type": "code",
   "execution_count": 24,
   "metadata": {},
   "outputs": [],
   "source": [
    "# print(grid3_pred.best_score_)\n",
    "# print(grid3_pred.best_params_)"
   ]
  },
  {
   "cell_type": "markdown",
   "metadata": {},
   "source": [
<<<<<<< HEAD
=======
    "## Random Search"
   ]
  },
  {
   "cell_type": "code",
   "execution_count": 25,
   "metadata": {},
   "outputs": [],
   "source": [
    "from keras.wrappers.scikit_learn import KerasClassifier\n",
    "from keras.models import Sequential\n",
    "from keras.layers import Dense\n",
    "from keras.utils import np_utils\n",
    "from sklearn.model_selection import RandomizedSearchCV as RS\n",
    "from scipy import stats\n",
    "from scipy.stats import randint\n",
    "from scipy.stats import uniform"
   ]
  },
  {
   "cell_type": "code",
   "execution_count": 26,
   "metadata": {},
   "outputs": [],
   "source": [
    "def create_model(neurons=1, hidden_layers=1):\n",
    "    model = Sequential()\n",
    "    model.add(Dense(neurons, activation='relu', input_shape=(2221,)))\n",
    "    for i in np.arange(hidden_layers):\n",
    "        model.add(Dense(neurons, activation='relu'))\n",
    "    model.add(Dense(1, activation='sigmoid'))\n",
    "    model.compile(loss='binary_crossentropy', optimizer='adam', metrics=\n",
    "    ['accuracy'])\n",
    "    return model"
   ]
  },
  {
   "cell_type": "code",
   "execution_count": 27,
   "metadata": {},
   "outputs": [],
   "source": [
    "model = KerasClassifier(build_fn=create_model, verbose=0, shuffle=True)"
   ]
  },
  {
   "cell_type": "code",
   "execution_count": 30,
   "metadata": {},
   "outputs": [],
   "source": [
    "params = {'neurons': stats.randint(2, 128),\n",
    "         'hidden_layers': stats.randint(1, 10)\n",
    "         }\n",
    "n_iter = 20"
   ]
  },
  {
   "cell_type": "code",
   "execution_count": 31,
   "metadata": {},
   "outputs": [],
   "source": [
    "rand_search = RS(estimator=model, param_distributions=params, n_jobs=-1, cv=4, n_iter=n_iter)\n",
    "\n",
    "rand_search = rand_search.fit(x_train_vec, y_train)"
   ]
  },
  {
   "cell_type": "code",
   "execution_count": 32,
   "metadata": {},
   "outputs": [
    {
     "name": "stdout",
     "output_type": "stream",
     "text": [
      "best score:0.6956521802478366 \n",
      " best params:{'hidden_layers': 3, 'neurons': 107}\n"
     ]
    }
   ],
   "source": [
    "print(f'best score:{rand_search.best_score_} \\n best params:{rand_search.best_params_}')"
   ]
  },
  {
   "cell_type": "code",
   "execution_count": null,
   "metadata": {},
   "outputs": [],
   "source": []
  },
  {
   "cell_type": "code",
   "execution_count": null,
   "metadata": {},
   "outputs": [],
   "source": []
  },
  {
   "cell_type": "code",
   "execution_count": null,
   "metadata": {},
   "outputs": [],
   "source": []
  },
  {
   "cell_type": "code",
   "execution_count": null,
   "metadata": {},
   "outputs": [],
   "source": []
  },
  {
   "cell_type": "code",
   "execution_count": null,
   "metadata": {},
   "outputs": [],
   "source": []
  },
  {
   "cell_type": "code",
   "execution_count": null,
   "metadata": {},
   "outputs": [],
   "source": []
  },
  {
   "cell_type": "markdown",
   "metadata": {},
   "source": [
>>>>>>> 4fe688d039d694600ce01436233882345144d869
    "## Neural Network"
   ]
  },
  {
<<<<<<< HEAD
   "cell_type": "code",
   "execution_count": 28,
   "metadata": {
    "scrolled": false
   },
   "outputs": [
    {
     "name": "stdout",
     "output_type": "stream",
     "text": [
      "_________________________________________________________________\n",
      "Layer (type)                 Output Shape              Param #   \n",
      "=================================================================\n",
      "input_1 (InputLayer)         (None, 5020)              0         \n",
      "_________________________________________________________________\n",
      "dense_1 (Dense)              (None, 16)                80336     \n",
      "_________________________________________________________________\n",
      "dense_2 (Dense)              (None, 16)                272       \n",
      "_________________________________________________________________\n",
      "dense_3 (Dense)              (None, 16)                272       \n",
      "_________________________________________________________________\n",
      "dense_4 (Dense)              (None, 16)                272       \n",
      "_________________________________________________________________\n",
      "dense_5 (Dense)              (None, 16)                272       \n",
      "_________________________________________________________________\n",
      "dense_6 (Dense)              (None, 16)                272       \n",
      "_________________________________________________________________\n",
      "dense_7 (Dense)              (None, 16)                272       \n",
      "_________________________________________________________________\n",
      "dense_8 (Dense)              (None, 16)                272       \n",
      "_________________________________________________________________\n",
      "dense_9 (Dense)              (None, 1)                 17        \n",
      "=================================================================\n",
      "Total params: 82,257\n",
      "Trainable params: 82,257\n",
      "Non-trainable params: 0\n",
      "_________________________________________________________________\n"
     ]
    }
   ],
=======
   "cell_type": "markdown",
   "metadata": {
    "scrolled": false
   },
>>>>>>> 4fe688d039d694600ce01436233882345144d869
   "source": [
    "#Defining the layers of the neural network\n",
    "inputs = layers.Input(shape=(5020,))\n",
    "hidden_1 = layers.Dense(units=16, activation='relu')(inputs)\n",
    "dropout1 = layers.Dropout(0.2)(hidden_1)\n",
    "hidden_2 = layers.Dense(units=16, activation='relu')(hidden_1)\n",
    "dropout2 = layers.Dropout(0.2)(hidden_2)\n",
    "hidden_3=layers.Dense(units=16,activation='relu')(hidden_2)\n",
    "dropout3=layers.Dropout(0.2)(hidden_3)\n",
    "hidden_4=layers.Dense(units=16,activation='relu')(hidden_3)\n",
    "dropout4=layers.Dropout(0.2)(hidden_4)\n",
    "hidden_5=layers.Dense(units=16,activation='relu')(hidden_4)\n",
    "dropout5=layers.Dropout(0.2)(hidden_5)\n",
    "hidden_6=layers.Dense(units=16,activation='relu')(hidden_5)\n",
    "dropout6=layers.Dropout(0.2)(hidden_6)\n",
    "hidden_7=layers.Dense(units=16,activation='relu')(hidden_6)\n",
    "dropout7=layers.Dropout(0.2)(hidden_7)\n",
    "hidden_8=layers.Dense(units=16,activation='relu')(hidden_7)\n",
    "dropout8=layers.Dropout(0.2)(hidden_8)\n",
    "outputs = layers.Dense(1, activation='sigmoid')(hidden_8)\n",
    "\n",
    "network= models.Model(inputs=inputs, outputs=outputs)\n",
    "network.summary()\n",
    "network.compile(loss='binary_crossentropy', metrics=['accuracy'], optimizer='Adam')"
   ]
  },
  {
<<<<<<< HEAD
   "cell_type": "code",
   "execution_count": 29,
   "metadata": {},
   "outputs": [
    {
     "name": "stdout",
     "output_type": "stream",
     "text": [
      "121/121 [==============================] - 0s 613us/step\n",
      "0.26210343061892455\n",
      "0.9173553674674231\n"
     ]
    }
   ],
=======
   "cell_type": "markdown",
   "metadata": {},
>>>>>>> 4fe688d039d694600ce01436233882345144d869
   "source": [
    "#Testing the accuracy of the network on the test data\n",
    "network.fit(x=x_train_vec, y=y_train, batch_size=16, epochs=30, verbose=0)\n",
    "test_loss, test_acc = network.evaluate(x_test_vec, y_test)\n",
    "print (test_loss)\n",
    "print (test_acc)"
   ]
  },
  {
   "cell_type": "code",
   "execution_count": null,
   "metadata": {},
   "outputs": [],
   "source": []
  }
 ],
 "metadata": {
  "kernelspec": {
   "display_name": "Python 3",
   "language": "python",
   "name": "python3"
  },
  "language_info": {
   "codemirror_mode": {
    "name": "ipython",
    "version": 3
   },
   "file_extension": ".py",
   "mimetype": "text/x-python",
   "name": "python",
   "nbconvert_exporter": "python",
   "pygments_lexer": "ipython3",
   "version": "3.6.6"
  }
 },
 "nbformat": 4,
 "nbformat_minor": 2
}
