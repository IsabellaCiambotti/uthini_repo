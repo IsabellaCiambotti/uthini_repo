{
 "cells": [
  {
   "cell_type": "markdown",
   "metadata": {},
   "source": [
    "## format and split data"
   ]
  },
  {
   "cell_type": "code",
   "execution_count": 1,
   "metadata": {},
   "outputs": [],
   "source": [
    "import pandas as pd\n",
    "import numpy as np\n",
    "import sklearn as sk"
   ]
  },
  {
   "cell_type": "code",
   "execution_count": 2,
   "metadata": {},
   "outputs": [
    {
     "name": "stderr",
     "output_type": "stream",
     "text": [
      "/home/isabella_uthini_co_za/.venv/lib/python3.6/site-packages/IPython/core/interactiveshell.py:2785: DtypeWarning: Columns (7,8) have mixed types. Specify dtype option on import or set low_memory=False.\n",
      "  interactivity=interactivity, compiler=compiler, result=result)\n"
     ]
    }
   ],
   "source": [
    "train = pd.read_csv('train_small.csv')"
   ]
  },
  {
   "cell_type": "code",
   "execution_count": 3,
   "metadata": {},
   "outputs": [],
   "source": [
    "train.dropna(subset=['type'], inplace=True)"
   ]
  },
  {
   "cell_type": "code",
   "execution_count": 4,
   "metadata": {},
   "outputs": [],
   "source": [
    "test = pd.read_csv('labeled_output.csv')"
   ]
  },
  {
   "cell_type": "code",
   "execution_count": 5,
   "metadata": {},
   "outputs": [],
   "source": [
    "test.dropna(subset=['text'], inplace=True)"
   ]
  },
  {
   "cell_type": "code",
   "execution_count": 6,
   "metadata": {},
   "outputs": [
    {
     "data": {
      "text/html": [
       "<div>\n",
       "<style scoped>\n",
       "    .dataframe tbody tr th:only-of-type {\n",
       "        vertical-align: middle;\n",
       "    }\n",
       "\n",
       "    .dataframe tbody tr th {\n",
       "        vertical-align: top;\n",
       "    }\n",
       "\n",
       "    .dataframe thead th {\n",
       "        text-align: right;\n",
       "    }\n",
       "</style>\n",
       "<table border=\"1\" class=\"dataframe\">\n",
       "  <thead>\n",
       "    <tr style=\"text-align: right;\">\n",
       "      <th></th>\n",
       "      <th>channel_type</th>\n",
       "      <th>channel_name</th>\n",
       "      <th>id</th>\n",
       "      <th>date</th>\n",
       "      <th>from</th>\n",
       "      <th>text</th>\n",
       "      <th>from_2</th>\n",
       "      <th>type</th>\n",
       "      <th>category</th>\n",
       "    </tr>\n",
       "  </thead>\n",
       "  <tbody>\n",
       "    <tr>\n",
       "      <th>0</th>\n",
       "      <td>personal_chat</td>\n",
       "      <td>TZ155 Nontobeko Mthembu</td>\n",
       "      <td>226915</td>\n",
       "      <td>2018-03-22T17:59:29</td>\n",
       "      <td>Setup (Master)</td>\n",
       "      <td>Sawubona Jessie 😊. ;;We can see that you are e...</td>\n",
       "      <td>setup</td>\n",
       "      <td>noncontent</td>\n",
       "      <td>setup</td>\n",
       "    </tr>\n",
       "    <tr>\n",
       "      <th>1</th>\n",
       "      <td>private_group</td>\n",
       "      <td>19:00 (10/07) Thabiso (2)🏆3️⃣</td>\n",
       "      <td>376217</td>\n",
       "      <td>2018-04-03T19:01:47</td>\n",
       "      <td>ThishaBot</td>\n",
       "      <td>Any questions?</td>\n",
       "      <td>bot</td>\n",
       "      <td>noncontent</td>\n",
       "      <td>conv</td>\n",
       "    </tr>\n",
       "    <tr>\n",
       "      <th>2</th>\n",
       "      <td>private_group</td>\n",
       "      <td>20:00 (11/07) Irfaan (2)🏆3️⃣</td>\n",
       "      <td>873757</td>\n",
       "      <td>2018-05-15T20:52:52</td>\n",
       "      <td>Irfaan Moolla</td>\n",
       "      <td>Today</td>\n",
       "      <td>student</td>\n",
       "      <td>noncontent</td>\n",
       "      <td>conv</td>\n",
       "    </tr>\n",
       "    <tr>\n",
       "      <th>3</th>\n",
       "      <td>private_group</td>\n",
       "      <td>13:00 (10/07) Fatima (3)🏆3️⃣</td>\n",
       "      <td>1368973</td>\n",
       "      <td>2018-07-02T19:05:13</td>\n",
       "      <td>TZ Simphiwe Mfaba</td>\n",
       "      <td>Kulungile 💪</td>\n",
       "      <td>tutor</td>\n",
       "      <td>noncontent</td>\n",
       "      <td>conv</td>\n",
       "    </tr>\n",
       "    <tr>\n",
       "      <th>4</th>\n",
       "      <td>private_group</td>\n",
       "      <td>20:00 (09/07) Jenna (1)🏆4⃣</td>\n",
       "      <td>1234119</td>\n",
       "      <td>2018-06-18T20:12:31</td>\n",
       "      <td>ThishaBot</td>\n",
       "      <td>Surprisingly, the patient seems satisfied with...</td>\n",
       "      <td>bot</td>\n",
       "      <td>content</td>\n",
       "      <td>non mcq</td>\n",
       "    </tr>\n",
       "  </tbody>\n",
       "</table>\n",
       "</div>"
      ],
      "text/plain": [
       "    channel_type                   channel_name       id                 date  \\\n",
       "0  personal_chat        TZ155 Nontobeko Mthembu   226915  2018-03-22T17:59:29   \n",
       "1  private_group  19:00 (10/07) Thabiso (2)🏆3️⃣   376217  2018-04-03T19:01:47   \n",
       "2  private_group   20:00 (11/07) Irfaan (2)🏆3️⃣   873757  2018-05-15T20:52:52   \n",
       "3  private_group   13:00 (10/07) Fatima (3)🏆3️⃣  1368973  2018-07-02T19:05:13   \n",
       "4  private_group     20:00 (09/07) Jenna (1)🏆4⃣  1234119  2018-06-18T20:12:31   \n",
       "\n",
       "                from                                               text  \\\n",
       "0     Setup (Master)  Sawubona Jessie 😊. ;;We can see that you are e...   \n",
       "1          ThishaBot                                     Any questions?   \n",
       "2      Irfaan Moolla                                              Today   \n",
       "3  TZ Simphiwe Mfaba                                        Kulungile 💪   \n",
       "4          ThishaBot  Surprisingly, the patient seems satisfied with...   \n",
       "\n",
       "    from_2        type category  \n",
       "0    setup  noncontent    setup  \n",
       "1      bot  noncontent     conv  \n",
       "2  student  noncontent     conv  \n",
       "3    tutor  noncontent     conv  \n",
       "4      bot     content  non mcq  "
      ]
     },
     "execution_count": 6,
     "metadata": {},
     "output_type": "execute_result"
    }
   ],
   "source": [
    "train.head()"
   ]
  },
  {
   "cell_type": "code",
   "execution_count": 7,
   "metadata": {},
   "outputs": [],
   "source": [
    "test.drop(columns=['text_type'], inplace=True)"
   ]
  },
  {
   "cell_type": "code",
   "execution_count": 8,
   "metadata": {},
   "outputs": [],
   "source": [
    "X = train['text']\n",
    "y = train['type']"
   ]
  },
  {
   "cell_type": "code",
   "execution_count": 9,
   "metadata": {},
   "outputs": [
    {
     "name": "stdout",
     "output_type": "stream",
     "text": [
      "(259,)\n",
      "(259,)\n"
     ]
    }
   ],
   "source": [
    "print(X.shape)\n",
    "print(y.shape)"
   ]
  },
  {
   "cell_type": "code",
   "execution_count": 10,
   "metadata": {},
   "outputs": [],
   "source": [
    "from sklearn.model_selection import train_test_split\n",
    "\n",
    "x_train, x_test, y_train, y_test = train_test_split(X, y, random_state=32, test_size=0.2)"
   ]
  },
  {
   "cell_type": "code",
   "execution_count": 11,
   "metadata": {},
   "outputs": [],
   "source": [
    "from sklearn.preprocessing import LabelEncoder\n",
    "le=LabelEncoder()\n",
    "y_train=le.fit_transform(y_train)\n",
    "y_test=le.fit_transform(y_test)"
   ]
  },
  {
   "cell_type": "code",
   "execution_count": 12,
   "metadata": {},
   "outputs": [
    {
     "name": "stdout",
     "output_type": "stream",
     "text": [
      "(207, 2163)\n",
      "(52, 2163)\n"
     ]
    }
   ],
   "source": [
    "from sklearn.feature_extraction.text import TfidfVectorizer\n",
    "\n",
    "tf_vec = TfidfVectorizer(analyzer='word',\n",
    "                         min_df=1,\n",
    "                         strip_accents='unicode',\n",
    "                         token_pattern=r'\\w{1,}',\n",
    "                         ngram_range=(2,3),\n",
    "                         )\n",
    "x_train_vec = tf_vec.fit_transform(x_train)\n",
    "x_test_vec = tf_vec.transform(x_test)\n",
    "print (x_train_vec.shape)\n",
    "print (x_test_vec.shape)"
   ]
  },
  {
   "cell_type": "markdown",
   "metadata": {},
   "source": [
    "## neural net"
   ]
  },
  {
   "cell_type": "code",
   "execution_count": 13,
   "metadata": {},
   "outputs": [
    {
     "name": "stderr",
     "output_type": "stream",
     "text": [
      "Using TensorFlow backend.\n"
     ]
    }
   ],
   "source": [
    "from keras import models\n",
    "from keras import layers\n",
    "from keras.layers import Dropout\n",
    "from keras import optimizers\n",
    "from keras.optimizers import SGD"
   ]
  },
  {
   "cell_type": "code",
   "execution_count": 14,
   "metadata": {},
   "outputs": [],
   "source": [
    "# def create_model():\n",
    "#     inputs = layers.Input(shape=(2163,))\n",
    "#     hidden_1 = layers.Dense(units=16, activation='relu')(inputs)\n",
    "#     dropout1 = layers.Dropout(0.2)(hidden_1)\n",
    "#     hidden_2 = layers.Dense(units=16, activation='relu')(hidden_1)\n",
    "#     dropout_2 = layers.Dropout(0.2)(hidden_2)\n",
    "#     outputs = layers.Dense(1, activation='softmax')(hidden_2)\n",
    "\n",
    "#     model= models.Model(inputs=inputs, outputs=outputs)\n",
    "#     #model.summary()\n",
    "#     model.compile(loss='binary_crossentropy', metrics=['accuracy'], optimizer='Adam')\n",
    "#     return model"
   ]
  },
  {
   "cell_type": "markdown",
   "metadata": {},
   "source": [
    "## parameter training"
   ]
  },
  {
   "cell_type": "code",
   "execution_count": 15,
   "metadata": {},
   "outputs": [],
   "source": [
    "from keras import Sequential\n",
    "from keras.layers import Dense\n",
    "from keras.losses import binary_crossentropy"
   ]
  },
  {
   "cell_type": "code",
   "execution_count": 16,
   "metadata": {},
   "outputs": [],
   "source": [
    "def create_model_2(hidden_layers=1,dropout_rate=0):\n",
    "    model2 = Sequential()\n",
    "    \n",
    "    model2.add(Dense(16, input_shape=(2163,), activation='relu',))\n",
    "    for i in range(hidden_layers):\n",
    "        model2.add(Dense(16, activation='relu'))\n",
    "        model2.add(Dropout(dropout_rate))\n",
    "    model2.add(Dense(1, activation='sigmoid'))\n",
    "\n",
    "    model2.compile(loss='binary_crossentropy', optimizer='adam', metrics=['accuracy'])\n",
    "    return model2"
   ]
  },
  {
   "cell_type": "code",
   "execution_count": 17,
   "metadata": {},
   "outputs": [],
   "source": [
    "from keras.wrappers.scikit_learn import KerasClassifier\n",
    "\n",
    "model2 = KerasClassifier(build_fn=create_model_2, verbose=0, epochs=32, batch_size=8, shuffle=True)"
   ]
  },
  {
   "cell_type": "code",
   "execution_count": 18,
   "metadata": {},
   "outputs": [],
   "source": [
    "from sklearn.model_selection import GridSearchCV\n",
    "\n",
    "hidden_layers= [2,4,6,8,10,12]\n",
    "dropout_rate=[0.2,0.4,0.6,0.8]\n",
    "\n",
    "\n",
    "param_grid2 = dict(hidden_layers=hidden_layers, dropout_rate=dropout_rate)\n",
    "\n",
    "grid_2 = GridSearchCV(estimator=model2, param_grid=param_grid2, n_jobs=-1)"
   ]
  },
  {
   "cell_type": "code",
   "execution_count": 19,
   "metadata": {},
   "outputs": [],
   "source": [
    "#grid2_pred = grid_2.fit(x_train_vec, y_train)"
   ]
  },
  {
   "cell_type": "code",
   "execution_count": 20,
   "metadata": {},
   "outputs": [],
   "source": [
    "#print(grid2_pred.best_score_)\n",
    "#print(grid2_pred.best_params_)"
   ]
  },
  {
   "cell_type": "code",
   "execution_count": 21,
   "metadata": {},
   "outputs": [],
   "source": [
    "def create_model_3(neurons):\n",
    "    model3 = Sequential()\n",
    "    \n",
    "    model3.add(Dense(neurons, input_shape=(2163,), activation='relu',))\n",
    "    for i in range(4):\n",
    "        model3.add(Dense(neurons, activation='relu'))\n",
    "        model3.add(Dropout(0.2))\n",
    "    model3.add(Dense(1, activation='sigmoid'))\n",
    "\n",
    "    model3.compile(loss='binary_crossentropy', optimizer='adam', metrics=['accuracy'])\n",
    "    return model3"
   ]
  },
  {
   "cell_type": "code",
   "execution_count": 22,
   "metadata": {},
   "outputs": [],
   "source": [
    "model3 = KerasClassifier(build_fn=create_model_3, verbose=0, epochs=32, batch_size=8, shuffle=True)"
   ]
  },
  {
   "cell_type": "code",
   "execution_count": 23,
   "metadata": {},
   "outputs": [],
   "source": [
    "neurons= [4,8,16,32,64]\n",
    "\n",
    "param_grid3 = dict(neurons=neurons)\n",
    "\n",
    "grid_3 = GridSearchCV(estimator=model3, param_grid=param_grid3, n_jobs=-1)"
   ]
  },
  {
   "cell_type": "code",
   "execution_count": 24,
   "metadata": {},
   "outputs": [],
   "source": [
    "grid3_pred = grid_3.fit(x_train_vec, y_train)"
   ]
  },
  {
   "cell_type": "code",
   "execution_count": 25,
   "metadata": {},
   "outputs": [
    {
     "name": "stdout",
     "output_type": "stream",
     "text": [
      "0.8212560389352881\n",
      "{'neurons': 64}\n"
     ]
    }
   ],
   "source": [
    "print(grid3_pred.best_score_)\n",
    "print(grid3_pred.best_params_)"
   ]
  },
  {
   "cell_type": "code",
   "execution_count": 32,
   "metadata": {
    "scrolled": false
   },
   "outputs": [
    {
     "name": "stdout",
     "output_type": "stream",
     "text": [
      "_________________________________________________________________\n",
      "Layer (type)                 Output Shape              Param #   \n",
      "=================================================================\n",
      "input_4 (InputLayer)         (None, 2163)              0         \n",
      "_________________________________________________________________\n",
      "dense_22 (Dense)             (None, 2048)              4431872   \n",
      "_________________________________________________________________\n",
      "dense_23 (Dense)             (None, 2048)              4196352   \n",
      "_________________________________________________________________\n",
      "dense_26 (Dense)             (None, 1)                 2049      \n",
      "=================================================================\n",
      "Total params: 8,630,273\n",
      "Trainable params: 8,630,273\n",
      "Non-trainable params: 0\n",
      "_________________________________________________________________\n"
     ]
    }
   ],
   "source": [
    "inputs = layers.Input(shape=(2163,))\n",
    "hidden_1 = layers.Dense(units=2048, activation='relu')(inputs)\n",
    "dropout1 = layers.Dropout(0.2)(hidden_1)\n",
    "hidden_2 = layers.Dense(units=2048, activation='relu')(hidden_1)\n",
    "dropout2 = layers.Dropout(0.2)(hidden_2)\n",
    "hidden_3=layers.Dense(units=2048,activation='relu')(hidden_2)\n",
    "dropout3=layers.Dropout(0.2)(hidden_3)\n",
    "hidden_4=layers.Dense(units=2048,activation='relu')(hidden_3)\n",
    "dropout4=layers.Dropout(0.2)(hidden_4)\n",
    "outputs = layers.Dense(1, activation='sigmoid')(hidden_2)\n",
    "\n",
    "network= models.Model(inputs=inputs, outputs=outputs)\n",
    "network.summary()\n",
    "network.compile(loss='binary_crossentropy', metrics=['accuracy'], optimizer='Adam')"
   ]
  },
  {
   "cell_type": "code",
   "execution_count": 33,
   "metadata": {},
   "outputs": [
    {
     "name": "stdout",
     "output_type": "stream",
     "text": [
      "Epoch 1/32\n",
      "207/207 [==============================] - 3s 13ms/step - loss: 0.6205 - acc: 0.6957\n",
      "Epoch 2/32\n",
      "207/207 [==============================] - 1s 7ms/step - loss: 0.2139 - acc: 0.9372\n",
      "Epoch 3/32\n",
      "207/207 [==============================] - 1s 7ms/step - loss: 0.1120 - acc: 0.9710\n",
      "Epoch 4/32\n",
      "207/207 [==============================] - 1s 7ms/step - loss: 0.1380 - acc: 0.9710\n",
      "Epoch 5/32\n",
      "207/207 [==============================] - 1s 7ms/step - loss: 0.1001 - acc: 0.9710\n",
      "Epoch 6/32\n",
      "207/207 [==============================] - 1s 7ms/step - loss: 0.1017 - acc: 0.9710\n",
      "Epoch 7/32\n",
      "207/207 [==============================] - 1s 7ms/step - loss: 0.1039 - acc: 0.9710\n",
      "Epoch 8/32\n",
      "207/207 [==============================] - 1s 7ms/step - loss: 0.1135 - acc: 0.9710\n",
      "Epoch 9/32\n",
      "207/207 [==============================] - 1s 7ms/step - loss: 0.1003 - acc: 0.9710\n",
      "Epoch 10/32\n",
      "207/207 [==============================] - 1s 7ms/step - loss: 0.0990 - acc: 0.9710\n",
      "Epoch 11/32\n",
      "207/207 [==============================] - 1s 7ms/step - loss: 0.1032 - acc: 0.9710\n",
      "Epoch 12/32\n",
      "207/207 [==============================] - 1s 7ms/step - loss: 0.1000 - acc: 0.9710\n",
      "Epoch 13/32\n",
      "207/207 [==============================] - 1s 7ms/step - loss: 0.1033 - acc: 0.9710\n",
      "Epoch 14/32\n",
      "207/207 [==============================] - 1s 7ms/step - loss: 0.0977 - acc: 0.9710\n",
      "Epoch 15/32\n",
      "207/207 [==============================] - 1s 7ms/step - loss: 0.1092 - acc: 0.9710\n",
      "Epoch 16/32\n",
      "207/207 [==============================] - 1s 6ms/step - loss: 0.1042 - acc: 0.9710\n",
      "Epoch 17/32\n",
      "207/207 [==============================] - 1s 7ms/step - loss: 0.1075 - acc: 0.9710\n",
      "Epoch 18/32\n",
      "207/207 [==============================] - 1s 7ms/step - loss: 0.1004 - acc: 0.9710\n",
      "Epoch 19/32\n",
      "207/207 [==============================] - 1s 7ms/step - loss: 0.0983 - acc: 0.9710\n",
      "Epoch 20/32\n",
      "207/207 [==============================] - 1s 7ms/step - loss: 0.0981 - acc: 0.9710\n",
      "Epoch 21/32\n",
      "207/207 [==============================] - 1s 7ms/step - loss: 0.1007 - acc: 0.9710\n",
      "Epoch 22/32\n",
      "207/207 [==============================] - 1s 7ms/step - loss: 0.0998 - acc: 0.9710\n",
      "Epoch 23/32\n",
      "207/207 [==============================] - 1s 7ms/step - loss: 0.1042 - acc: 0.9710\n",
      "Epoch 24/32\n",
      "207/207 [==============================] - 1s 7ms/step - loss: 0.1015 - acc: 0.9710\n",
      "Epoch 25/32\n",
      "207/207 [==============================] - 1s 7ms/step - loss: 0.1031 - acc: 0.9710\n",
      "Epoch 26/32\n",
      "207/207 [==============================] - 1s 7ms/step - loss: 0.0989 - acc: 0.9710\n",
      "Epoch 27/32\n",
      "207/207 [==============================] - 1s 7ms/step - loss: 0.1007 - acc: 0.9710\n",
      "Epoch 28/32\n",
      "207/207 [==============================] - 1s 6ms/step - loss: 0.0988 - acc: 0.9710\n",
      "Epoch 29/32\n",
      "207/207 [==============================] - 1s 6ms/step - loss: 0.1009 - acc: 0.9710\n",
      "Epoch 30/32\n",
      "207/207 [==============================] - 1s 6ms/step - loss: 0.1016 - acc: 0.9710\n",
      "Epoch 31/32\n",
      "207/207 [==============================] - 1s 6ms/step - loss: 0.1017 - acc: 0.9710\n",
      "Epoch 32/32\n",
      "207/207 [==============================] - 1s 6ms/step - loss: 0.0986 - acc: 0.9710\n",
      "52/52 [==============================] - 0s 2ms/step\n",
      "0.6673890168850238\n",
      "0.7884615476314838\n"
     ]
    }
   ],
   "source": [
    "network.fit(x=x_train_vec, y=y_train, batch_size=8, epochs=32, verbose=0)\n",
    "test_loss, test_acc = network.evaluate(x_test_vec, y_test)\n",
    "print (test_loss)\n",
    "print (test_acc)"
   ]
  },
  {
   "cell_type": "code",
   "execution_count": null,
   "metadata": {},
   "outputs": [],
   "source": []
  },
  {
   "cell_type": "code",
   "execution_count": null,
   "metadata": {},
   "outputs": [],
   "source": []
  }
 ],
 "metadata": {
  "kernelspec": {
   "display_name": "Python 3",
   "language": "python",
   "name": "python3"
  },
  "language_info": {
   "codemirror_mode": {
    "name": "ipython",
    "version": 3
   },
   "file_extension": ".py",
   "mimetype": "text/x-python",
   "name": "python",
   "nbconvert_exporter": "python",
   "pygments_lexer": "ipython3",
   "version": "3.6.6"
  }
 },
 "nbformat": 4,
 "nbformat_minor": 2
}
