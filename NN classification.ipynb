{
 "cells": [
  {
   "cell_type": "markdown",
   "metadata": {},
   "source": [
    "## Prepare data"
   ]
  },
  {
   "cell_type": "code",
   "execution_count": 1,
   "metadata": {},
   "outputs": [],
   "source": [
    "import pandas as pd\n",
    "import numpy as np\n",
    "import sklearn as sk"
   ]
  },
  {
   "cell_type": "code",
   "execution_count": 2,
   "metadata": {},
   "outputs": [
    {
     "name": "stderr",
     "output_type": "stream",
     "text": [
      "/anaconda3/lib/python3.6/site-packages/IPython/core/interactiveshell.py:2785: DtypeWarning: Columns (7,8) have mixed types. Specify dtype option on import or set low_memory=False.\n",
      "  interactivity=interactivity, compiler=compiler, result=result)\n"
     ]
    }
   ],
   "source": [
    "train = pd.read_csv('train_small.csv')"
   ]
  },
  {
   "cell_type": "code",
   "execution_count": 3,
   "metadata": {},
   "outputs": [],
   "source": [
    "train.dropna(subset=['type'], inplace=True)"
   ]
  },
  {
   "cell_type": "code",
   "execution_count": 4,
   "metadata": {},
   "outputs": [],
   "source": [
    "test = pd.read_csv('labeled_output.csv')"
   ]
  },
  {
   "cell_type": "code",
   "execution_count": 5,
   "metadata": {},
   "outputs": [],
   "source": [
    "test.dropna(subset=['text'], inplace=True)"
   ]
  },
  {
   "cell_type": "code",
   "execution_count": 6,
   "metadata": {},
   "outputs": [],
   "source": [
    "test['category']=np.nan"
   ]
  },
  {
   "cell_type": "code",
   "execution_count": 7,
   "metadata": {},
   "outputs": [],
   "source": [
    "X = train['text']\n",
    "y = train['category']"
   ]
  },
  {
   "cell_type": "code",
   "execution_count": 8,
   "metadata": {},
   "outputs": [],
   "source": [
    "from sklearn.model_selection import train_test_split\n",
    "\n",
    "x_train, x_test, y_train, y_test = train_test_split(X, y, random_state=32, test_size=0.2)"
   ]
  },
  {
   "cell_type": "code",
   "execution_count": 9,
   "metadata": {},
   "outputs": [],
   "source": [
    "from sklearn.preprocessing import LabelEncoder\n",
    "le=LabelEncoder()\n",
    "y_train=le.fit_transform(y_train)\n",
    "y_test=le.fit_transform(y_test)"
   ]
  },
  {
   "cell_type": "code",
   "execution_count": 10,
   "metadata": {},
   "outputs": [
    {
     "name": "stderr",
     "output_type": "stream",
     "text": [
      "/anaconda3/lib/python3.6/site-packages/h5py/__init__.py:36: FutureWarning: Conversion of the second argument of issubdtype from `float` to `np.floating` is deprecated. In future, it will be treated as `np.float64 == np.dtype(float).type`.\n",
      "  from ._conv import register_converters as _register_converters\n",
      "Using TensorFlow backend.\n"
     ]
    }
   ],
   "source": [
    "import keras\n",
    "from sklearn.preprocessing import LabelEncoder\n",
    "\n",
    "num_classes=6\n",
    "y_train = keras.utils.to_categorical(y_train,num_classes)\n",
    "y_test = keras.utils.to_categorical(y_test, num_classes)"
   ]
  },
  {
   "cell_type": "code",
   "execution_count": 11,
   "metadata": {},
   "outputs": [
    {
     "data": {
      "text/plain": [
       "array([[1., 0., 0., 0., 0., 0.],\n",
       "       [0., 0., 1., 0., 0., 0.],\n",
       "       [0., 0., 0., 1., 0., 0.],\n",
       "       ...,\n",
       "       [0., 0., 1., 0., 0., 0.],\n",
       "       [0., 0., 0., 0., 0., 1.],\n",
       "       [1., 0., 0., 0., 0., 0.]], dtype=float32)"
      ]
     },
     "execution_count": 11,
     "metadata": {},
     "output_type": "execute_result"
    }
   ],
   "source": [
    "y_train.shape\n",
    "y_train"
   ]
  },
  {
   "cell_type": "markdown",
   "metadata": {},
   "source": [
    "## Neural Network"
   ]
  },
  {
   "cell_type": "code",
   "execution_count": 12,
   "metadata": {},
   "outputs": [
    {
     "name": "stdout",
     "output_type": "stream",
     "text": [
      "(207, 2163)\n",
      "(52, 2163)\n"
     ]
    }
   ],
   "source": [
    "from sklearn.feature_extraction.text import TfidfVectorizer\n",
    "\n",
    "tf_vec = TfidfVectorizer(analyzer='word',\n",
    "                         min_df=1,\n",
    "                         strip_accents='unicode',\n",
    "                         token_pattern=r'\\w{1,}',\n",
    "                         ngram_range=(2,3),\n",
    "                         )\n",
    "x_train_vec = tf_vec.fit_transform(x_train)\n",
    "x_test_vec = tf_vec.transform(x_test)\n",
    "print (x_train_vec.shape)\n",
    "print (x_test_vec.shape)"
   ]
  },
  {
   "cell_type": "code",
   "execution_count": 13,
   "metadata": {},
   "outputs": [],
   "source": [
    "import keras\n",
    "from keras import models\n",
    "from keras import layers"
   ]
  },
  {
   "cell_type": "code",
   "execution_count": 14,
   "metadata": {},
   "outputs": [],
   "source": [
    "input_tensor = layers.Input(shape=(2163,), name='input')\n",
    "hidden_layer_1 = layers.Dense(units=16, activation='relu', name='hidden_layer_1')(input_tensor)\n",
    "hidden_layer_2 = layers.Dense(units=16, activation='relu', name='hidden_layer_2')(hidden_layer_1)\n",
    "output_tensor = layers.Dense(6, activation='softmax', name='output')(hidden_layer_2)"
   ]
  },
  {
   "cell_type": "code",
   "execution_count": 15,
   "metadata": {},
   "outputs": [
    {
     "name": "stdout",
     "output_type": "stream",
     "text": [
      "_________________________________________________________________\n",
      "Layer (type)                 Output Shape              Param #   \n",
      "=================================================================\n",
      "input (InputLayer)           (None, 2163)              0         \n",
      "_________________________________________________________________\n",
      "hidden_layer_1 (Dense)       (None, 16)                34624     \n",
      "_________________________________________________________________\n",
      "hidden_layer_2 (Dense)       (None, 16)                272       \n",
      "_________________________________________________________________\n",
      "output (Dense)               (None, 6)                 102       \n",
      "=================================================================\n",
      "Total params: 34,998\n",
      "Trainable params: 34,998\n",
      "Non-trainable params: 0\n",
      "_________________________________________________________________\n"
     ]
    }
   ],
   "source": [
    "network = models.Model(inputs=input_tensor, outputs=output_tensor)\n",
    "\n",
    "network.summary()"
   ]
  },
  {
   "cell_type": "code",
   "execution_count": 16,
   "metadata": {},
   "outputs": [],
   "source": [
    "from keras import optimizers\n",
    "network.compile(optimizer=optimizers.RMSprop(), loss='categorical_crossentropy', metrics=['accuracy'])"
   ]
  },
  {
   "cell_type": "code",
   "execution_count": 17,
   "metadata": {},
   "outputs": [
    {
     "name": "stdout",
     "output_type": "stream",
     "text": [
      "Epoch 1/40\n",
      "207/207 [==============================] - 0s 1ms/step - loss: 1.7913 - acc: 0.3671\n",
      "Epoch 2/40\n",
      "207/207 [==============================] - 0s 68us/step - loss: 1.7725 - acc: 0.5990\n",
      "Epoch 3/40\n",
      "207/207 [==============================] - 0s 70us/step - loss: 1.7575 - acc: 0.6329\n",
      "Epoch 4/40\n",
      "207/207 [==============================] - 0s 68us/step - loss: 1.7438 - acc: 0.6184\n",
      "Epoch 5/40\n",
      "207/207 [==============================] - 0s 54us/step - loss: 1.7303 - acc: 0.6425\n",
      "Epoch 6/40\n",
      "207/207 [==============================] - 0s 65us/step - loss: 1.7170 - acc: 0.6473\n",
      "Epoch 7/40\n",
      "207/207 [==============================] - 0s 66us/step - loss: 1.7039 - acc: 0.6425\n",
      "Epoch 8/40\n",
      "207/207 [==============================] - 0s 66us/step - loss: 1.6907 - acc: 0.6570\n",
      "Epoch 9/40\n",
      "207/207 [==============================] - 0s 67us/step - loss: 1.6774 - acc: 0.6618\n",
      "Epoch 10/40\n",
      "207/207 [==============================] - 0s 66us/step - loss: 1.6635 - acc: 0.6570\n",
      "Epoch 11/40\n",
      "207/207 [==============================] - 0s 71us/step - loss: 1.6493 - acc: 0.6715\n",
      "Epoch 12/40\n",
      "207/207 [==============================] - 0s 67us/step - loss: 1.6341 - acc: 0.6715\n",
      "Epoch 13/40\n",
      "207/207 [==============================] - 0s 73us/step - loss: 1.6188 - acc: 0.6812\n",
      "Epoch 14/40\n",
      "207/207 [==============================] - 0s 61us/step - loss: 1.6033 - acc: 0.6908\n",
      "Epoch 15/40\n",
      "207/207 [==============================] - 0s 52us/step - loss: 1.5872 - acc: 0.6957\n",
      "Epoch 16/40\n",
      "207/207 [==============================] - 0s 73us/step - loss: 1.5706 - acc: 0.6908\n",
      "Epoch 17/40\n",
      "207/207 [==============================] - 0s 65us/step - loss: 1.5539 - acc: 0.7005\n",
      "Epoch 18/40\n",
      "207/207 [==============================] - 0s 67us/step - loss: 1.5369 - acc: 0.7101\n",
      "Epoch 19/40\n",
      "207/207 [==============================] - 0s 66us/step - loss: 1.5197 - acc: 0.7150\n",
      "Epoch 20/40\n",
      "207/207 [==============================] - 0s 70us/step - loss: 1.5019 - acc: 0.7295\n",
      "Epoch 21/40\n",
      "207/207 [==============================] - 0s 75us/step - loss: 1.4839 - acc: 0.7295\n",
      "Epoch 22/40\n",
      "207/207 [==============================] - 0s 66us/step - loss: 1.4655 - acc: 0.7343\n",
      "Epoch 23/40\n",
      "207/207 [==============================] - 0s 74us/step - loss: 1.4469 - acc: 0.7343\n",
      "Epoch 24/40\n",
      "207/207 [==============================] - 0s 70us/step - loss: 1.4287 - acc: 0.7391\n",
      "Epoch 25/40\n",
      "207/207 [==============================] - 0s 78us/step - loss: 1.4102 - acc: 0.7440\n",
      "Epoch 26/40\n",
      "207/207 [==============================] - 0s 82us/step - loss: 1.3915 - acc: 0.7488\n",
      "Epoch 27/40\n",
      "207/207 [==============================] - 0s 78us/step - loss: 1.3725 - acc: 0.7585\n",
      "Epoch 28/40\n",
      "207/207 [==============================] - 0s 76us/step - loss: 1.3534 - acc: 0.7536\n",
      "Epoch 29/40\n",
      "207/207 [==============================] - 0s 84us/step - loss: 1.3342 - acc: 0.7585\n",
      "Epoch 30/40\n",
      "207/207 [==============================] - 0s 78us/step - loss: 1.3150 - acc: 0.7585\n",
      "Epoch 31/40\n",
      "207/207 [==============================] - 0s 85us/step - loss: 1.2956 - acc: 0.7585\n",
      "Epoch 32/40\n",
      "207/207 [==============================] - 0s 80us/step - loss: 1.2759 - acc: 0.7585\n",
      "Epoch 33/40\n",
      "207/207 [==============================] - 0s 79us/step - loss: 1.2563 - acc: 0.7633\n",
      "Epoch 34/40\n",
      "207/207 [==============================] - 0s 81us/step - loss: 1.2366 - acc: 0.7633\n",
      "Epoch 35/40\n",
      "207/207 [==============================] - 0s 87us/step - loss: 1.2174 - acc: 0.7633\n",
      "Epoch 36/40\n",
      "207/207 [==============================] - 0s 85us/step - loss: 1.1985 - acc: 0.7633\n",
      "Epoch 37/40\n",
      "207/207 [==============================] - 0s 81us/step - loss: 1.1793 - acc: 0.7633\n",
      "Epoch 38/40\n",
      "207/207 [==============================] - 0s 84us/step - loss: 1.1600 - acc: 0.7681\n",
      "Epoch 39/40\n",
      "207/207 [==============================] - 0s 81us/step - loss: 1.1412 - acc: 0.7681\n",
      "Epoch 40/40\n",
      "207/207 [==============================] - 0s 83us/step - loss: 1.1225 - acc: 0.7729\n"
     ]
    },
    {
     "data": {
      "text/plain": [
       "<keras.callbacks.History at 0xa1fec6b38>"
      ]
     },
     "execution_count": 17,
     "metadata": {},
     "output_type": "execute_result"
    }
   ],
   "source": [
    "network.fit(x=x_train_vec, y=y_train, batch_size=128, epochs=40)"
   ]
  },
  {
   "cell_type": "code",
   "execution_count": null,
   "metadata": {},
   "outputs": [],
   "source": []
  }
 ],
 "metadata": {
  "kernelspec": {
   "display_name": "Python 3",
   "language": "python",
   "name": "python3"
  },
  "language_info": {
   "codemirror_mode": {
    "name": "ipython",
    "version": 3
   },
   "file_extension": ".py",
   "mimetype": "text/x-python",
   "name": "python",
   "nbconvert_exporter": "python",
   "pygments_lexer": "ipython3",
   "version": "3.6.5"
  }
 },
 "nbformat": 4,
 "nbformat_minor": 2
}
